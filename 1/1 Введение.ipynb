{
 "cells": [
  {
   "cell_type": "markdown",
   "metadata": {},
   "source": [
    "# Основы статистики\n",
    "\n",
    "# 1.Введение\n",
    "\n",
    "## 1.2 Генеральная совокупность и выборка\n",
    "\n",
    "[Stepik](https://stepik.org/lesson/8074/step/1?unit=1354)\n",
    "\n",
    "**Генеральная совокупность** - (от лат. generis — общий, родовой) — совокупность всех объектов (единиц), относительно которых предполагается делать выводы при изучении конкретной задачи.\n",
    "\n",
    "**Выборка** или выборочная совокупность — часть генеральной совокупности элементов, которая охватывается экспериментом (наблюдением, опросом).\n",
    "\n",
    "- Простая случайная выборка (simple random sample)\n",
    "- Стратифицированная выборка (stratified sample)\n",
    "- Групповая выборка (cluster sample)"
   ]
  },
  {
   "cell_type": "markdown",
   "metadata": {},
   "source": [
    "## 1.3 Типы переменных. Количественные и номинативные переменные\n",
    "\n",
    "[Stepik](https://stepik.org/lesson/8073/step/1?unit=1353)\n",
    "\n",
    "### Типы переменных\n",
    "\n",
    "- Количественные\n",
    "    - непрерывные (рост)\n",
    "    - дискретные (число детей в семье)\n",
    "- Качественные (Номинативные) (пол)\n",
    "\n",
    "> Есть еще Ранговые переменные. \n",
    "\n",
    "### Путь от количественной к номинативной переменной\n",
    "\n",
    "1. Измерить рост испытуемых -> **Непрерывная количественная** переменная\n",
    "2. Проранжировать испытуемых -> **Ранговая** переменная\n",
    "3. Разделить на группы (выше и ниже среднего) -> **Номинативная** переменная"
   ]
  },
  {
   "cell_type": "markdown",
   "metadata": {},
   "source": [
    "## 1.4  Меры центральной тенденции\n",
    "\n",
    "[Stepik](https://stepik.org/lesson/8075/step/1?&unit=1355)\n",
    "\n",
    "- Меры центральной тенденции\n",
    "    - Средние (арифметическое среднее)\n",
    "    - Мода (mode) – максимально частый признак. Может быть несколько.\n",
    "    - Медиана (median) – занчение признака, которое делит упорядоченное множество пополам.\n",
    "    - и другие средние\n",
    "- Меры изменчивости"
   ]
  },
  {
   "cell_type": "code",
   "execution_count": 44,
   "metadata": {},
   "outputs": [
    {
     "name": "stdout",
     "output_type": "stream",
     "text": [
      "[157, 159, 161, 164, 165, 166, 167, 167, 167]\n",
      "- mean = 163.66666666666666\n",
      "- mode = 167\n",
      "- median = 165\n",
      "[157, 159, 161, 164, 165, 166]\n",
      "- mean = 162.0\n",
      "- mode = 157\n",
      "- median = 162.5\n"
     ]
    }
   ],
   "source": [
    "import collections\n",
    "    \n",
    "def mean(dataset):\n",
    "    return sum(dataset) / len(dataset)\n",
    "    \n",
    "def mode(dataset):\n",
    "    counter = collections.Counter()\n",
    "    for element in dataset:\n",
    "        counter[element] += 1 \n",
    "    return counter.most_common()[0][0]\n",
    "    \n",
    "def median(dataset):\n",
    "    count = len(dataset)\n",
    "    middle = int(count / 2)\n",
    "    if count % 2 == 0:\n",
    "        return (dataset[middle - 1] + dataset[middle]) / 2\n",
    "    return dataset[middle]\n",
    "\n",
    "def central_tendency(dataset):\n",
    "    print(dataset)\n",
    "    print(\"- mean =\", mean(dataset))\n",
    "    print(\"- mode =\", mode(dataset))\n",
    "    print(\"- median =\", median(dataset))\n",
    "\n",
    "central_tendency([157, 159, 161, 164, 165, 166, 167, 167, 167])\n",
    "central_tendency([157, 159, 161, 164, 165, 166])"
   ]
  },
  {
   "cell_type": "markdown",
   "metadata": {},
   "source": [
    "Если распределение симметрично, унимодально (имеет одну моду) и не имеет заметных выбросов, то можно использовать любую из мер центральной тендеции. Среднее, мода и медиана дадут примерно одинаковое значение.\n",
    "\n",
    "В пртоивном случае использование среднего недопустимо, так как может приветси нас к некоректным результатам.\n",
    "\n",
    "### Свойства среднего \n",
    "\n",
    "> Для симметричного унимодальной выборки\n",
    "\n",
    "1. Если к каждому значению выборки прибавить число, то на это же число увеличится среднее \n",
    "2. Если каждое значение выборки умножить на число, то во столько же раз увеличится среднее \n",
    "3. Сумма отклонений от среднего арифметического будет равна нулю"
   ]
  },
  {
   "cell_type": "code",
   "execution_count": 22,
   "metadata": {},
   "outputs": [],
   "source": [
    "dataset = [157, 159, 161, 164, 164, 164, 165, 166, 167]\n",
    "\n",
    "# 1. Если к каждому значению выборки прибавить число, то на это же число увеличится среднее \n",
    "assert(mean([x + 3 for x in dataset]) == mean(dataset) + 3)\n",
    "assert(mean([x - 10 for x in dataset]) == mean(dataset) - 10)"
   ]
  },
  {
   "cell_type": "code",
   "execution_count": 23,
   "metadata": {},
   "outputs": [],
   "source": [
    "# 2. Если каждое значение выборки умножить на число, то во столько же раз увеличится среднее \n",
    "assert(mean([x * 2 for x in dataset]) == mean(dataset) * 2)\n",
    "assert(mean([x * 9 for x in dataset]) == mean(dataset) * 9)"
   ]
  },
  {
   "cell_type": "code",
   "execution_count": 24,
   "metadata": {},
   "outputs": [],
   "source": [
    "# 3. Сумма отклонений от среднего арифметического будет равна нулю\n",
    "assert(sum([x - mean(dataset) for x in dataset]) == 0)"
   ]
  },
  {
   "cell_type": "markdown",
   "metadata": {},
   "source": [
    "## 1.5 Меры изменчивости\n",
    "\n",
    "[Stepik](https://stepik.org/lesson/8076/step/1?unit=1356)\n",
    "\n",
    "- Размах (range) - разность максимального и минимального значения\n",
    "- Дисперсия (variance) - средний квадрат отклонений индивидуальных значений признака от их средней величины\n",
    "- Стандартное отклонение - среднеквадратическое отклонение (сигма). Квадратный корень из дисперсии."
   ]
  },
  {
   "cell_type": "code",
   "execution_count": 46,
   "metadata": {},
   "outputs": [
    {
     "name": "stdout",
     "output_type": "stream",
     "text": [
      "[157, 159, 161, 164, 164, 164, 165, 166, 167]\n",
      "- range = 10\n",
      "- variance = 11.0\n",
      "- standard deviation = 3.3166247903554\n",
      "[1, 2, 2, 3, 4, 4, 5]\n",
      "- range = 4\n",
      "- variance = 2.0\n",
      "- standard deviation = 1.4142135623730951\n"
     ]
    }
   ],
   "source": [
    "def variance(dataset):\n",
    "    m = mean(dataset)\n",
    "    return sum([(x - m) ** 2 for x in dataset]) / (len(dataset) - 1)\n",
    "\n",
    "def standard_deviation(dataset):\n",
    "    return variance(dataset) ** 0.5\n",
    "\n",
    "def print_measures_of_variability(dataset):\n",
    "    print(dataset)\n",
    "    print(\"- range =\", dataset[-1] - dataset[0])\n",
    "    print(\"- variance =\", variance(dataset))\n",
    "    print(\"- standard deviation =\", standard_deviation(dataset))\n",
    "    \n",
    "print_measures_of_variability(dataset)\n",
    "print_measures_of_variability([1, 2, 2, 3, 4, 4, 5])"
   ]
  },
  {
   "cell_type": "markdown",
   "metadata": {},
   "source": [
    "### Свойства дисперсии\n",
    "\n",
    "> и стандартного отклонения\n",
    "\n",
    "1. Если к каждому признаку добавить число, то дисперсия и стандартное отклонение не изменятся\n",
    "2. Если каждый признак увечилчить в сколько то раз, то дисперсия увеличится на квадрат этого числа, а стандартное отклонения на число раз"
   ]
  },
  {
   "cell_type": "code",
   "execution_count": 55,
   "metadata": {},
   "outputs": [],
   "source": [
    "assert(variance([x + 4 for x in dataset]) == variance(dataset))\n",
    "assert(standard_deviation([x + 5 for x in dataset]) == standard_deviation(dataset))\n",
    "\n",
    "assert(variance([x * 5 for x in dataset]) == variance(dataset) * (5 ** 2))\n",
    "assert(standard_deviation([x * 6 for x in dataset]) == standard_deviation(dataset) * 6)"
   ]
  },
  {
   "cell_type": "code",
   "execution_count": 56,
   "metadata": {},
   "outputs": [
    {
     "name": "stdout",
     "output_type": "stream",
     "text": [
      "[1, 5, 2, 7, 1, 9, 3, 8, 5, 9]\n",
      "- range = 8\n",
      "- variance = 10.0\n",
      "- standard deviation = 3.1622776601683795\n"
     ]
    }
   ],
   "source": [
    "print_measures_of_variability([1, 5, 2, 7, 1, 9, 3, 8, 5, 9])"
   ]
  },
  {
   "cell_type": "code",
   "execution_count": null,
   "metadata": {},
   "outputs": [],
   "source": []
  }
 ],
 "metadata": {
  "kernelspec": {
   "display_name": "Python 3",
   "language": "python",
   "name": "python3"
  },
  "language_info": {
   "codemirror_mode": {
    "name": "ipython",
    "version": 3
   },
   "file_extension": ".py",
   "mimetype": "text/x-python",
   "name": "python",
   "nbconvert_exporter": "python",
   "pygments_lexer": "ipython3",
   "version": "3.7.0"
  }
 },
 "nbformat": 4,
 "nbformat_minor": 4
}
